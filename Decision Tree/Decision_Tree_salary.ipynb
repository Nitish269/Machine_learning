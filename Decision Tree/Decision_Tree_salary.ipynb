{
 "cells": [
  {
   "cell_type": "code",
   "execution_count": 33,
   "id": "7abf2860-2f60-4324-b549-07299d2a42a2",
   "metadata": {},
   "outputs": [],
   "source": [
    "import pandas as pd\n",
    "from sklearn.preprocessing import LabelEncoder\n",
    "from sklearn.tree import DecisionTreeClassifier"
   ]
  },
  {
   "cell_type": "code",
   "execution_count": 2,
   "id": "bf50a243-c9c8-4c73-af10-73275119fb7c",
   "metadata": {},
   "outputs": [],
   "source": [
    "df = pd.read_csv('Salaries.csv')"
   ]
  },
  {
   "cell_type": "code",
   "execution_count": 4,
   "id": "6aa6c13f-8458-4f51-861e-56475dcf995d",
   "metadata": {},
   "outputs": [
    {
     "data": {
      "text/html": [
       "<div>\n",
       "<style scoped>\n",
       "    .dataframe tbody tr th:only-of-type {\n",
       "        vertical-align: middle;\n",
       "    }\n",
       "\n",
       "    .dataframe tbody tr th {\n",
       "        vertical-align: top;\n",
       "    }\n",
       "\n",
       "    .dataframe thead th {\n",
       "        text-align: right;\n",
       "    }\n",
       "</style>\n",
       "<table border=\"1\" class=\"dataframe\">\n",
       "  <thead>\n",
       "    <tr style=\"text-align: right;\">\n",
       "      <th></th>\n",
       "      <th>company</th>\n",
       "      <th>job</th>\n",
       "      <th>degree</th>\n",
       "      <th>salary_more_then_100k</th>\n",
       "    </tr>\n",
       "  </thead>\n",
       "  <tbody>\n",
       "    <tr>\n",
       "      <th>0</th>\n",
       "      <td>google</td>\n",
       "      <td>sales executive</td>\n",
       "      <td>bachelors</td>\n",
       "      <td>0</td>\n",
       "    </tr>\n",
       "    <tr>\n",
       "      <th>1</th>\n",
       "      <td>google</td>\n",
       "      <td>sales executive</td>\n",
       "      <td>masters</td>\n",
       "      <td>0</td>\n",
       "    </tr>\n",
       "    <tr>\n",
       "      <th>2</th>\n",
       "      <td>google</td>\n",
       "      <td>business manager</td>\n",
       "      <td>bachelors</td>\n",
       "      <td>1</td>\n",
       "    </tr>\n",
       "    <tr>\n",
       "      <th>3</th>\n",
       "      <td>google</td>\n",
       "      <td>business manager</td>\n",
       "      <td>masters</td>\n",
       "      <td>1</td>\n",
       "    </tr>\n",
       "    <tr>\n",
       "      <th>4</th>\n",
       "      <td>google</td>\n",
       "      <td>computer programmer</td>\n",
       "      <td>bachelors</td>\n",
       "      <td>0</td>\n",
       "    </tr>\n",
       "  </tbody>\n",
       "</table>\n",
       "</div>"
      ],
      "text/plain": [
       "  company                  job     degree  salary_more_then_100k\n",
       "0  google      sales executive  bachelors                      0\n",
       "1  google      sales executive    masters                      0\n",
       "2  google     business manager  bachelors                      1\n",
       "3  google     business manager    masters                      1\n",
       "4  google  computer programmer  bachelors                      0"
      ]
     },
     "execution_count": 4,
     "metadata": {},
     "output_type": "execute_result"
    }
   ],
   "source": [
    "df.head()"
   ]
  },
  {
   "cell_type": "markdown",
   "id": "3a63e22a-46cf-4d30-89a3-518b4f30baff",
   "metadata": {},
   "source": [
    "#### here our data set has campany, job, degree and salary more than 100k are features\n",
    "### We have to predict whcich employee get salarary more than 100k or not"
   ]
  },
  {
   "cell_type": "code",
   "execution_count": 5,
   "id": "b9379d45-6d92-4bb4-b2af-28eecb1e2bba",
   "metadata": {},
   "outputs": [
    {
     "data": {
      "text/plain": [
       "Index(['company', 'job', 'degree', 'salary_more_then_100k'], dtype='object')"
      ]
     },
     "execution_count": 5,
     "metadata": {},
     "output_type": "execute_result"
    }
   ],
   "source": [
    "df.columns"
   ]
  },
  {
   "cell_type": "code",
   "execution_count": 6,
   "id": "28c9169c-e945-4290-9053-de1a209a8bd8",
   "metadata": {},
   "outputs": [
    {
     "data": {
      "text/plain": [
       "(array(['google', 'abc pharma', 'facebook'], dtype=object), 3)"
      ]
     },
     "execution_count": 6,
     "metadata": {},
     "output_type": "execute_result"
    }
   ],
   "source": [
    "df.company.unique(),df.company.nunique()"
   ]
  },
  {
   "cell_type": "markdown",
   "id": "444946f4-058f-4677-bbd6-bf59e5d70ff1",
   "metadata": {},
   "source": [
    "#### Here we have 3 companies google,abc pharma ,facebook"
   ]
  },
  {
   "cell_type": "code",
   "execution_count": 8,
   "id": "1b42fd7e-9e3b-422f-9278-cfe057ddbacb",
   "metadata": {},
   "outputs": [
    {
     "data": {
      "text/plain": [
       "(array(['sales executive', 'business manager', 'computer programmer'],\n",
       "       dtype=object),\n",
       " 3)"
      ]
     },
     "execution_count": 8,
     "metadata": {},
     "output_type": "execute_result"
    }
   ],
   "source": [
    "df.job.unique(),df.job.nunique()"
   ]
  },
  {
   "cell_type": "markdown",
   "id": "6bc279fa-8028-47d2-a1c6-a2e2212eb346",
   "metadata": {},
   "source": [
    "#### We have 3 types of jobs 'sales executive', 'business manager', 'computer programmer'"
   ]
  },
  {
   "cell_type": "code",
   "execution_count": 9,
   "id": "03228bf5-aae3-4de4-a5a1-2b71218031d6",
   "metadata": {},
   "outputs": [
    {
     "data": {
      "text/plain": [
       "(array(['bachelors', 'masters'], dtype=object),\n",
       " company                  3\n",
       " job                      3\n",
       " degree                   2\n",
       " salary_more_then_100k    2\n",
       " dtype: int64)"
      ]
     },
     "execution_count": 9,
     "metadata": {},
     "output_type": "execute_result"
    }
   ],
   "source": [
    "df.degree.unique(),df.nunique()"
   ]
  },
  {
   "cell_type": "markdown",
   "id": "3c539e80-61e3-4bb5-94b8-68f75a5e5f04",
   "metadata": {},
   "source": [
    "#### we have employee of haaving degrees bachelors,masters"
   ]
  },
  {
   "cell_type": "code",
   "execution_count": 10,
   "id": "7ce0bf38-9e88-4f48-bcaa-5910ac8b77e5",
   "metadata": {},
   "outputs": [
    {
     "data": {
      "text/plain": [
       "array([0, 1], dtype=int64)"
      ]
     },
     "execution_count": 10,
     "metadata": {},
     "output_type": "execute_result"
    }
   ],
   "source": [
    "df['salary_more_then_100k'].unique()"
   ]
  },
  {
   "cell_type": "markdown",
   "id": "01c43603-59b4-40b3-8df8-0f31af43520f",
   "metadata": {},
   "source": [
    "#### Here we have to predict employee having salary more than 100k or not"
   ]
  },
  {
   "cell_type": "markdown",
   "id": "1e5312cb-a3e0-4a58-b2ce-8090dbdbb412",
   "metadata": {},
   "source": [
    "#### we have to convert data into numeric so we can use macine learning model "
   ]
  },
  {
   "cell_type": "markdown",
   "id": "c8c56436-3a4e-4646-a23f-cc3dd05bd5d1",
   "metadata": {},
   "source": [
    "#### As data is categorical we will use decision tree model, so we use label encoding"
   ]
  },
  {
   "cell_type": "code",
   "execution_count": 15,
   "id": "f7cab4c7-03ee-47ba-ad5f-e92f292e61f8",
   "metadata": {},
   "outputs": [
    {
     "data": {
      "text/plain": [
       "<AxesSubplot:xlabel='salary_more_then_100k'>"
      ]
     },
     "execution_count": 15,
     "metadata": {},
     "output_type": "execute_result"
    },
    {
     "data": {
      "image/png": "[encoded data removed]",
      "text/plain": [
       "<Figure size 432x288 with 1 Axes>"
      ]
     },
     "metadata": {
      "needs_background": "light"
     },
     "output_type": "display_data"
    }
   ],
   "source": [
    "pd.crosstab(df.salary_more_then_100k,df.job).plot(kind = 'bar')"
   ]
  },
  {
   "cell_type": "code",
   "execution_count": 14,
   "id": "e5fbd725-5e8d-44c2-a3f8-8f5e6bb2b3d7",
   "metadata": {},
   "outputs": [
    {
     "data": {
      "text/plain": [
       "<AxesSubplot:xlabel='salary_more_then_100k'>"
      ]
     },
     "execution_count": 14,
     "metadata": {},
     "output_type": "execute_result"
    },
    {
     "data": {
      "image/png": "[encoded data removed]",
      "text/plain": [
       "<Figure size 432x288 with 1 Axes>"
      ]
     },
     "metadata": {
      "needs_background": "light"
     },
     "output_type": "display_data"
    }
   ],
   "source": [
    "pd.crosstab(df.salary_more_then_100k,df.degree).plot(kind = 'bar')"
   ]
  },
  {
   "cell_type": "code",
   "execution_count": 16,
   "id": "4effa0c5-96de-4c50-b29f-4f59fad313f9",
   "metadata": {},
   "outputs": [
    {
     "data": {
      "text/plain": [
       "<AxesSubplot:xlabel='salary_more_then_100k'>"
      ]
     },
     "execution_count": 16,
     "metadata": {},
     "output_type": "execute_result"
    },
    {
     "data": {
      "image/png": "[encoded data removed]",
      "text/plain": [
       "<Figure size 432x288 with 1 Axes>"
      ]
     },
     "metadata": {
      "needs_background": "light"
     },
     "output_type": "display_data"
    }
   ],
   "source": [
    "pd.crosstab(df.salary_more_then_100k,df.company).plot(kind = 'bar')"
   ]
  },
  {
   "cell_type": "markdown",
   "id": "85937b2e-c00b-40d9-a7cb-35fd0015a30b",
   "metadata": {},
   "source": [
    "#### so from bar chart we have some idea like which company, job title and degree have salray more than 100k or not"
   ]
  },
  {
   "cell_type": "markdown",
   "id": "073f1538-ac26-4228-80a8-4c9f9e59a335",
   "metadata": {},
   "source": [
    "#### let we do label encoding"
   ]
  },
  {
   "cell_type": "markdown",
   "id": "63bb791c-c4da-4c80-96c8-bc6126d43d79",
   "metadata": {},
   "source": [
    "#### here we have 3 feature have categorical data "
   ]
  },
  {
   "cell_type": "code",
   "execution_count": 18,
   "id": "f403ad9c-f24b-49e6-b9f2-6f5415d4d2c7",
   "metadata": {},
   "outputs": [],
   "source": [
    "le = LabelEncoder()"
   ]
  },
  {
   "cell_type": "code",
   "execution_count": 19,
   "id": "d6512d67-dcfc-4fb8-87f9-214bbda0266d",
   "metadata": {},
   "outputs": [
    {
     "data": {
      "text/plain": [
       "Index(['company', 'job', 'degree', 'salary_more_then_100k'], dtype='object')"
      ]
     },
     "execution_count": 19,
     "metadata": {},
     "output_type": "execute_result"
    }
   ],
   "source": [
    "df.columns"
   ]
  },
  {
   "cell_type": "code",
   "execution_count": 20,
   "id": "d41e9bc3-2802-4a3d-9e60-6ae2b973534b",
   "metadata": {},
   "outputs": [],
   "source": [
    "le_company = LabelEncoder()\n",
    "le_job = LabelEncoder()\n",
    "le_degree = LabelEncoder()"
   ]
  },
  {
   "cell_type": "code",
   "execution_count": 21,
   "id": "affb5a1f-1b8c-4818-9745-3582408bddb8",
   "metadata": {},
   "outputs": [],
   "source": [
    "df['company_n'] = le_company.fit_transform(df.company)\n",
    "df['job_n'] = le_job.fit_transform(df.job)\n",
    "df['degree_n'] = le_degree.fit_transform(df.degree)"
   ]
  },
  {
   "cell_type": "code",
   "execution_count": 23,
   "id": "2c099eda-d608-4ad6-a9ec-120f5cbe12ba",
   "metadata": {},
   "outputs": [
    {
     "data": {
      "text/html": [
       "<div>\n",
       "<style scoped>\n",
       "    .dataframe tbody tr th:only-of-type {\n",
       "        vertical-align: middle;\n",
       "    }\n",
       "\n",
       "    .dataframe tbody tr th {\n",
       "        vertical-align: top;\n",
       "    }\n",
       "\n",
       "    .dataframe thead th {\n",
       "        text-align: right;\n",
       "    }\n",
       "</style>\n",
       "<table border=\"1\" class=\"dataframe\">\n",
       "  <thead>\n",
       "    <tr style=\"text-align: right;\">\n",
       "      <th></th>\n",
       "      <th>company</th>\n",
       "      <th>job</th>\n",
       "      <th>degree</th>\n",
       "      <th>salary_more_then_100k</th>\n",
       "      <th>company_n</th>\n",
       "      <th>job_n</th>\n",
       "      <th>degree_n</th>\n",
       "    </tr>\n",
       "  </thead>\n",
       "  <tbody>\n",
       "    <tr>\n",
       "      <th>0</th>\n",
       "      <td>google</td>\n",
       "      <td>sales executive</td>\n",
       "      <td>bachelors</td>\n",
       "      <td>0</td>\n",
       "      <td>2</td>\n",
       "      <td>2</td>\n",
       "      <td>0</td>\n",
       "    </tr>\n",
       "    <tr>\n",
       "      <th>1</th>\n",
       "      <td>google</td>\n",
       "      <td>sales executive</td>\n",
       "      <td>masters</td>\n",
       "      <td>0</td>\n",
       "      <td>2</td>\n",
       "      <td>2</td>\n",
       "      <td>1</td>\n",
       "    </tr>\n",
       "    <tr>\n",
       "      <th>2</th>\n",
       "      <td>google</td>\n",
       "      <td>business manager</td>\n",
       "      <td>bachelors</td>\n",
       "      <td>1</td>\n",
       "      <td>2</td>\n",
       "      <td>0</td>\n",
       "      <td>0</td>\n",
       "    </tr>\n",
       "    <tr>\n",
       "      <th>3</th>\n",
       "      <td>google</td>\n",
       "      <td>business manager</td>\n",
       "      <td>masters</td>\n",
       "      <td>1</td>\n",
       "      <td>2</td>\n",
       "      <td>0</td>\n",
       "      <td>1</td>\n",
       "    </tr>\n",
       "    <tr>\n",
       "      <th>4</th>\n",
       "      <td>google</td>\n",
       "      <td>computer programmer</td>\n",
       "      <td>bachelors</td>\n",
       "      <td>0</td>\n",
       "      <td>2</td>\n",
       "      <td>1</td>\n",
       "      <td>0</td>\n",
       "    </tr>\n",
       "  </tbody>\n",
       "</table>\n",
       "</div>"
      ],
      "text/plain": [
       "  company                  job     degree  salary_more_then_100k  company_n  \\\n",
       "0  google      sales executive  bachelors                      0          2   \n",
       "1  google      sales executive    masters                      0          2   \n",
       "2  google     business manager  bachelors                      1          2   \n",
       "3  google     business manager    masters                      1          2   \n",
       "4  google  computer programmer  bachelors                      0          2   \n",
       "\n",
       "   job_n  degree_n  \n",
       "0      2         0  \n",
       "1      2         1  \n",
       "2      0         0  \n",
       "3      0         1  \n",
       "4      1         0  "
      ]
     },
     "execution_count": 23,
     "metadata": {},
     "output_type": "execute_result"
    }
   ],
   "source": [
    "df.head()"
   ]
  },
  {
   "cell_type": "markdown",
   "id": "1fc59a6a-3075-4dc5-8e43-e5c306274985",
   "metadata": {},
   "source": [
    "#### we can drop non numeric data"
   ]
  },
  {
   "cell_type": "code",
   "execution_count": 24,
   "id": "f0bba458-83c8-4f96-9e19-8efc06f83e5d",
   "metadata": {},
   "outputs": [],
   "source": [
    "df = df.drop(['company', 'job', 'degree'],axis=1)"
   ]
  },
  {
   "cell_type": "code",
   "execution_count": 26,
   "id": "cf639b07-12c2-41d1-8867-9fd8a3665876",
   "metadata": {},
   "outputs": [
    {
     "data": {
      "text/html": [
       "<div>\n",
       "<style scoped>\n",
       "    .dataframe tbody tr th:only-of-type {\n",
       "        vertical-align: middle;\n",
       "    }\n",
       "\n",
       "    .dataframe tbody tr th {\n",
       "        vertical-align: top;\n",
       "    }\n",
       "\n",
       "    .dataframe thead th {\n",
       "        text-align: right;\n",
       "    }\n",
       "</style>\n",
       "<table border=\"1\" class=\"dataframe\">\n",
       "  <thead>\n",
       "    <tr style=\"text-align: right;\">\n",
       "      <th></th>\n",
       "      <th>salary_more_then_100k</th>\n",
       "      <th>company_n</th>\n",
       "      <th>job_n</th>\n",
       "      <th>degree_n</th>\n",
       "    </tr>\n",
       "  </thead>\n",
       "  <tbody>\n",
       "    <tr>\n",
       "      <th>0</th>\n",
       "      <td>0</td>\n",
       "      <td>2</td>\n",
       "      <td>2</td>\n",
       "      <td>0</td>\n",
       "    </tr>\n",
       "    <tr>\n",
       "      <th>1</th>\n",
       "      <td>0</td>\n",
       "      <td>2</td>\n",
       "      <td>2</td>\n",
       "      <td>1</td>\n",
       "    </tr>\n",
       "    <tr>\n",
       "      <th>2</th>\n",
       "      <td>1</td>\n",
       "      <td>2</td>\n",
       "      <td>0</td>\n",
       "      <td>0</td>\n",
       "    </tr>\n",
       "    <tr>\n",
       "      <th>3</th>\n",
       "      <td>1</td>\n",
       "      <td>2</td>\n",
       "      <td>0</td>\n",
       "      <td>1</td>\n",
       "    </tr>\n",
       "    <tr>\n",
       "      <th>4</th>\n",
       "      <td>0</td>\n",
       "      <td>2</td>\n",
       "      <td>1</td>\n",
       "      <td>0</td>\n",
       "    </tr>\n",
       "  </tbody>\n",
       "</table>\n",
       "</div>"
      ],
      "text/plain": [
       "   salary_more_then_100k  company_n  job_n  degree_n\n",
       "0                      0          2      2         0\n",
       "1                      0          2      2         1\n",
       "2                      1          2      0         0\n",
       "3                      1          2      0         1\n",
       "4                      0          2      1         0"
      ]
     },
     "execution_count": 26,
     "metadata": {},
     "output_type": "execute_result"
    }
   ],
   "source": [
    "df.head()"
   ]
  },
  {
   "cell_type": "code",
   "execution_count": 28,
   "id": "2ff3b33f-fc01-4220-ac44-c2dec51f7407",
   "metadata": {},
   "outputs": [],
   "source": [
    "X = df.drop(['salary_more_then_100k'],axis=1)"
   ]
  },
  {
   "cell_type": "code",
   "execution_count": 30,
   "id": "cb5e2e8c-52ec-42fe-9470-d999edfd7ad5",
   "metadata": {},
   "outputs": [],
   "source": [
    "y = df.salary_more_then_100k"
   ]
  },
  {
   "cell_type": "markdown",
   "id": "3ef58a91-4b24-4a66-8ebe-8b9f160ed1af",
   "metadata": {},
   "source": [
    "### Let we use Decision tree model"
   ]
  },
  {
   "cell_type": "code",
   "execution_count": 35,
   "id": "62e42c0f-d541-4e87-bd66-232d275dbb81",
   "metadata": {},
   "outputs": [],
   "source": [
    "dt = DecisionTreeClassifier()"
   ]
  },
  {
   "cell_type": "code",
   "execution_count": 38,
   "id": "7ffbe48d-8e8b-4d2d-bed3-bc532272dd55",
   "metadata": {},
   "outputs": [
    {
     "data": {
      "text/plain": [
       "DecisionTreeClassifier()"
      ]
     },
     "execution_count": 38,
     "metadata": {},
     "output_type": "execute_result"
    }
   ],
   "source": [
    "dt.fit(X,y)"
   ]
  },
  {
   "cell_type": "code",
   "execution_count": 39,
   "id": "c84c6a3f-9629-4b44-afc0-4217cf7dc7a2",
   "metadata": {},
   "outputs": [
    {
     "data": {
      "text/plain": [
       "1.0"
      ]
     },
     "execution_count": 39,
     "metadata": {},
     "output_type": "execute_result"
    }
   ],
   "source": [
    "dt.score(X,y)"
   ]
  },
  {
   "cell_type": "markdown",
   "id": "1740ee06-b6d5-4ede-8c76-11b515f5573d",
   "metadata": {},
   "source": [
    "### its good our model is 100% accurate"
   ]
  },
  {
   "cell_type": "code",
   "execution_count": null,
   "id": "13afa4c1-7bd0-4027-bf4f-a2bbe731680d",
   "metadata": {},
   "outputs": [],
   "source": []
  }
 ],
 "metadata": {
  "kernelspec": {
   "display_name": "Python 3 (ipykernel)",
   "language": "python",
   "name": "python3"
  },
  "language_info": {
   "codemirror_mode": {
    "name": "ipython",
    "version": 3
   },
   "file_extension": ".py",
   "mimetype": "text/x-python",
   "name": "python",
   "nbconvert_exporter": "python",
   "pygments_lexer": "ipython3",
   "version": "3.9.7"
  }
 },
 "nbformat": 4,
 "nbformat_minor": 5
}
