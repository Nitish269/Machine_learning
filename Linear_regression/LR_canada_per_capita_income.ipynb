{
 "cells": [
  {
   "cell_type": "markdown",
   "id": "8aa65a37-0de9-4df1-81d2-65482dae579a",
   "metadata": {},
   "source": [
    "# CANADA PER CAPITA INCOME"
   ]
  },
  {
   "cell_type": "code",
   "execution_count": 72,
   "id": "6d25df02-9aad-40ca-a229-7e553a25977b",
   "metadata": {},
   "outputs": [],
   "source": [
    "import pandas as pd\n",
    "import numpy as np\n",
    "import matplotlib.pyplot as plt"
   ]
  },
  {
   "cell_type": "markdown",
   "id": "f36b4f7f-57e1-4cb2-b9b4-1decdb6db446",
   "metadata": {},
   "source": [
    "## Read data file using read_csv"
   ]
  },
  {
   "cell_type": "code",
   "execution_count": 73,
   "id": "ebf21a09-e0f5-448d-bed2-995385c2080c",
   "metadata": {},
   "outputs": [
    {
     "data": {
      "text/html": [
       "<div>\n",
       "<style scoped>\n",
       "    .dataframe tbody tr th:only-of-type {\n",
       "        vertical-align: middle;\n",
       "    }\n",
       "\n",
       "    .dataframe tbody tr th {\n",
       "        vertical-align: top;\n",
       "    }\n",
       "\n",
       "    .dataframe thead th {\n",
       "        text-align: right;\n",
       "    }\n",
       "</style>\n",
       "<table border=\"1\" class=\"dataframe\">\n",
       "  <thead>\n",
       "    <tr style=\"text-align: right;\">\n",
       "      <th></th>\n",
       "      <th>year</th>\n",
       "      <th>per capita income (US$)</th>\n",
       "    </tr>\n",
       "  </thead>\n",
       "  <tbody>\n",
       "    <tr>\n",
       "      <th>0</th>\n",
       "      <td>1970</td>\n",
       "      <td>3399.299037</td>\n",
       "    </tr>\n",
       "    <tr>\n",
       "      <th>1</th>\n",
       "      <td>1971</td>\n",
       "      <td>3768.297935</td>\n",
       "    </tr>\n",
       "    <tr>\n",
       "      <th>2</th>\n",
       "      <td>1972</td>\n",
       "      <td>4251.175484</td>\n",
       "    </tr>\n",
       "    <tr>\n",
       "      <th>3</th>\n",
       "      <td>1973</td>\n",
       "      <td>4804.463248</td>\n",
       "    </tr>\n",
       "    <tr>\n",
       "      <th>4</th>\n",
       "      <td>1974</td>\n",
       "      <td>5576.514583</td>\n",
       "    </tr>\n",
       "  </tbody>\n",
       "</table>\n",
       "</div>"
      ],
      "text/plain": [
       "   year  per capita income (US$)\n",
       "0  1970              3399.299037\n",
       "1  1971              3768.297935\n",
       "2  1972              4251.175484\n",
       "3  1973              4804.463248\n",
       "4  1974              5576.514583"
      ]
     },
     "execution_count": 73,
     "metadata": {},
     "output_type": "execute_result"
    }
   ],
   "source": [
    "df = pd.read_csv('canada_per_capita_income.csv')\n",
    "df.head()"
   ]
  },
  {
   "cell_type": "markdown",
   "id": "b68e5519-5c94-4cbe-b54c-21b7d0ba2818",
   "metadata": {},
   "source": [
    "#### here we have canada per income data set"
   ]
  },
  {
   "cell_type": "code",
   "execution_count": 74,
   "id": "a3ecce6a-438a-4d30-b28c-307da63b0a6a",
   "metadata": {},
   "outputs": [
    {
     "data": {
      "text/plain": [
       "Index(['year', 'per capita income (US$)'], dtype='object')"
      ]
     },
     "execution_count": 74,
     "metadata": {},
     "output_type": "execute_result"
    }
   ],
   "source": [
    "df.columns"
   ]
  },
  {
   "cell_type": "code",
   "execution_count": 75,
   "id": "bd3ce082-7102-496c-aeb8-f37c973bb3e3",
   "metadata": {},
   "outputs": [
    {
     "data": {
      "text/html": [
       "<div>\n",
       "<style scoped>\n",
       "    .dataframe tbody tr th:only-of-type {\n",
       "        vertical-align: middle;\n",
       "    }\n",
       "\n",
       "    .dataframe tbody tr th {\n",
       "        vertical-align: top;\n",
       "    }\n",
       "\n",
       "    .dataframe thead th {\n",
       "        text-align: right;\n",
       "    }\n",
       "</style>\n",
       "<table border=\"1\" class=\"dataframe\">\n",
       "  <thead>\n",
       "    <tr style=\"text-align: right;\">\n",
       "      <th></th>\n",
       "      <th>year</th>\n",
       "      <th>per capita income (US$)</th>\n",
       "      <th>PCI</th>\n",
       "    </tr>\n",
       "  </thead>\n",
       "  <tbody>\n",
       "    <tr>\n",
       "      <th>0</th>\n",
       "      <td>1970</td>\n",
       "      <td>3399.299037</td>\n",
       "      <td>3399.299037</td>\n",
       "    </tr>\n",
       "    <tr>\n",
       "      <th>1</th>\n",
       "      <td>1971</td>\n",
       "      <td>3768.297935</td>\n",
       "      <td>3768.297935</td>\n",
       "    </tr>\n",
       "  </tbody>\n",
       "</table>\n",
       "</div>"
      ],
      "text/plain": [
       "   year  per capita income (US$)          PCI\n",
       "0  1970              3399.299037  3399.299037\n",
       "1  1971              3768.297935  3768.297935"
      ]
     },
     "execution_count": 75,
     "metadata": {},
     "output_type": "execute_result"
    }
   ],
   "source": [
    "df['PCI'] = df['per capita income (US$)']\n",
    "df.head(2)"
   ]
  },
  {
   "cell_type": "markdown",
   "id": "aaab7fd2-21bc-433c-996f-d7bf4109e0f7",
   "metadata": {},
   "source": [
    "#### We have features in this data set as 'year' and 'per capita income (US$)'"
   ]
  },
  {
   "cell_type": "markdown",
   "id": "2b47e216-7caf-4fa8-88e8-64cdf29e6fff",
   "metadata": {},
   "source": [
    "#### first we check data set has any NAN values"
   ]
  },
  {
   "cell_type": "code",
   "execution_count": 76,
   "id": "a3c9be66-ed8f-40f4-9ad9-c57e42c03d82",
   "metadata": {},
   "outputs": [
    {
     "data": {
      "text/plain": [
       "year                       0\n",
       "per capita income (US$)    0\n",
       "PCI                        0\n",
       "dtype: int64"
      ]
     },
     "execution_count": 76,
     "metadata": {},
     "output_type": "execute_result"
    }
   ],
   "source": [
    "df.isna().sum()"
   ]
  },
  {
   "cell_type": "markdown",
   "id": "2d815c94-9eaa-41e1-9a92-8f13257f357b",
   "metadata": {},
   "source": [
    "#### let we check which year data we have "
   ]
  },
  {
   "cell_type": "code",
   "execution_count": 77,
   "id": "bd0a1b03-ecb6-4186-9338-fd99f7cb46e4",
   "metadata": {},
   "outputs": [
    {
     "data": {
      "text/plain": [
       "array([1970, 1971, 1972, 1973, 1974, 1975, 1976, 1977, 1978, 1979, 1980,\n",
       "       1981, 1982, 1983, 1984, 1985, 1986, 1987, 1988, 1989, 1990, 1991,\n",
       "       1992, 1993, 1994, 1995, 1996, 1997, 1998, 1999, 2000, 2001, 2002,\n",
       "       2003, 2004, 2005, 2006, 2007, 2008, 2009, 2010, 2011, 2012, 2013,\n",
       "       2014, 2015, 2016], dtype=int64)"
      ]
     },
     "execution_count": 77,
     "metadata": {},
     "output_type": "execute_result"
    }
   ],
   "source": [
    "df.year.unique()"
   ]
  },
  {
   "cell_type": "markdown",
   "id": "a0a091b7-7118-4db4-b660-638aa5816fcd",
   "metadata": {},
   "source": [
    "##### we have data from year from 1970 to 2016"
   ]
  },
  {
   "cell_type": "markdown",
   "id": "4f37b8f7-ad9e-4500-af9b-46b07ace57ae",
   "metadata": {},
   "source": [
    "#### let check relation of year and per capita income relationship by plotting scatter plot"
   ]
  },
  {
   "cell_type": "code",
   "execution_count": 78,
   "id": "c585b86b-9425-40d1-81b3-a4094f0dc9b2",
   "metadata": {},
   "outputs": [
    {
     "data": {
      "text/plain": [
       "<matplotlib.collections.PathCollection at 0x218665e92e0>"
      ]
     },
     "execution_count": 78,
     "metadata": {},
     "output_type": "execute_result"
    },
    {
     "data": {
      "image/png": "[encoded data removed]",
      "text/plain": [
       "<Figure size 432x288 with 1 Axes>"
      ]
     },
     "metadata": {
      "needs_background": "light"
     },
     "output_type": "display_data"
    }
   ],
   "source": [
    "plt.xlabel('year')\n",
    "plt.ylabel('PCI(US$)')\n",
    "plt.scatter(df.year,df.PCI,c='g')"
   ]
  },
  {
   "cell_type": "markdown",
   "id": "388bbe6b-f078-4ee9-9902-af6b01e95d9b",
   "metadata": {},
   "source": [
    "#### from scatter plot it looks almost linear raise in per capita income of canada with year"
   ]
  },
  {
   "cell_type": "markdown",
   "id": "3a2f39e8-f3ec-4312-b947-4a58a0fe8926",
   "metadata": {},
   "source": [
    "#### so we can apply Linear Regression model for predicting 2017 ownward per capita income"
   ]
  },
  {
   "cell_type": "code",
   "execution_count": 79,
   "id": "e4a9a0c8-80a6-416c-84a2-a9064755ee6f",
   "metadata": {},
   "outputs": [],
   "source": [
    "from sklearn.linear_model import LinearRegression"
   ]
  },
  {
   "cell_type": "code",
   "execution_count": 80,
   "id": "ba66fce0-18ca-4ac8-9e86-4ad1c67b4149",
   "metadata": {},
   "outputs": [],
   "source": [
    "model = LinearRegression()"
   ]
  },
  {
   "cell_type": "code",
   "execution_count": 81,
   "id": "7aa32d16-c4aa-4102-b289-b9bae760b963",
   "metadata": {},
   "outputs": [
    {
     "data": {
      "text/plain": [
       "LinearRegression()"
      ]
     },
     "execution_count": 81,
     "metadata": {},
     "output_type": "execute_result"
    }
   ],
   "source": [
    "model"
   ]
  },
  {
   "cell_type": "markdown",
   "id": "183db234-d513-4275-9561-9cfcb111cd59",
   "metadata": {},
   "source": [
    "#### train our data set"
   ]
  },
  {
   "cell_type": "code",
   "execution_count": 82,
   "id": "568db75e-a5df-43b3-991b-c4a18cb4ac7a",
   "metadata": {},
   "outputs": [
    {
     "data": {
      "text/plain": [
       "LinearRegression()"
      ]
     },
     "execution_count": 82,
     "metadata": {},
     "output_type": "execute_result"
    }
   ],
   "source": [
    "model.fit(df[['year']],df.PCI)"
   ]
  },
  {
   "cell_type": "code",
   "execution_count": 83,
   "id": "139d44e2-4da3-4b1a-a8d0-9216b98bb440",
   "metadata": {},
   "outputs": [
    {
     "data": {
      "text/plain": [
       "array([828.46507522])"
      ]
     },
     "execution_count": 83,
     "metadata": {},
     "output_type": "execute_result"
    }
   ],
   "source": [
    "model.coef_"
   ]
  },
  {
   "cell_type": "code",
   "execution_count": 84,
   "id": "06666c0e-7fef-4f94-9462-477c8b8de67d",
   "metadata": {},
   "outputs": [
    {
     "data": {
      "text/plain": [
       "-1632210.7578554575"
      ]
     },
     "execution_count": 84,
     "metadata": {},
     "output_type": "execute_result"
    }
   ],
   "source": [
    "model.intercept_"
   ]
  },
  {
   "cell_type": "markdown",
   "id": "3fc71c4f-4f1a-4931-80dc-c58f88efa5c2",
   "metadata": {},
   "source": [
    "#### what is score of train data set?"
   ]
  },
  {
   "cell_type": "code",
   "execution_count": 93,
   "id": "55c7b1c0-da1a-4b5b-8d09-2e25f1116b76",
   "metadata": {},
   "outputs": [
    {
     "data": {
      "text/plain": [
       "1.0"
      ]
     },
     "execution_count": 93,
     "metadata": {},
     "output_type": "execute_result"
    }
   ],
   "source": [
    "model.score(df[['year']],model.predict(df[['year']]))"
   ]
  },
  {
   "cell_type": "markdown",
   "id": "5ebed8ad-255a-43f1-a73d-837df1cea033",
   "metadata": {},
   "source": [
    "#### let predict per capita income for 2017 year"
   ]
  },
  {
   "cell_type": "code",
   "execution_count": 57,
   "id": "2b0e2b89-f928-443a-9f55-4cd8fd09be83",
   "metadata": {},
   "outputs": [
    {
     "name": "stderr",
     "output_type": "stream",
     "text": [
      "C:\\Users\\Rupali\\AppData\\Local\\Programs\\Python\\Python39\\lib\\site-packages\\sklearn\\base.py:445: UserWarning: X does not have valid feature names, but LinearRegression was fitted with feature names\n",
      "  warnings.warn(\n"
     ]
    },
    {
     "data": {
      "text/plain": [
       "array([38803.29886875])"
      ]
     },
     "execution_count": 57,
     "metadata": {},
     "output_type": "execute_result"
    }
   ],
   "source": [
    "model.predict([[2017]])"
   ]
  },
  {
   "cell_type": "markdown",
   "id": "4c6c8ad2-1fb9-4dc8-bd9b-377240463fdc",
   "metadata": {},
   "source": [
    "#### let try to predict for 2017 to 2020 "
   ]
  },
  {
   "cell_type": "code",
   "execution_count": 64,
   "id": "77b5eba7-64c2-4701-9b57-b429aa16dec7",
   "metadata": {},
   "outputs": [
    {
     "data": {
      "text/html": [
       "<div>\n",
       "<style scoped>\n",
       "    .dataframe tbody tr th:only-of-type {\n",
       "        vertical-align: middle;\n",
       "    }\n",
       "\n",
       "    .dataframe tbody tr th {\n",
       "        vertical-align: top;\n",
       "    }\n",
       "\n",
       "    .dataframe thead th {\n",
       "        text-align: right;\n",
       "    }\n",
       "</style>\n",
       "<table border=\"1\" class=\"dataframe\">\n",
       "  <thead>\n",
       "    <tr style=\"text-align: right;\">\n",
       "      <th></th>\n",
       "      <th>year_pred</th>\n",
       "    </tr>\n",
       "  </thead>\n",
       "  <tbody>\n",
       "    <tr>\n",
       "      <th>0</th>\n",
       "      <td>2017</td>\n",
       "    </tr>\n",
       "    <tr>\n",
       "      <th>1</th>\n",
       "      <td>2018</td>\n",
       "    </tr>\n",
       "    <tr>\n",
       "      <th>2</th>\n",
       "      <td>2019</td>\n",
       "    </tr>\n",
       "    <tr>\n",
       "      <th>3</th>\n",
       "      <td>2020</td>\n",
       "    </tr>\n",
       "  </tbody>\n",
       "</table>\n",
       "</div>"
      ],
      "text/plain": [
       "   year_pred\n",
       "0       2017\n",
       "1       2018\n",
       "2       2019\n",
       "3       2020"
      ]
     },
     "execution_count": 64,
     "metadata": {},
     "output_type": "execute_result"
    }
   ],
   "source": [
    "d = pd.DataFrame({'year_pred':[2017,2018,2019,2020]})\n",
    "d"
   ]
  },
  {
   "cell_type": "code",
   "execution_count": 65,
   "id": "e9b7aa3f-f224-44b7-8797-0b16dc8bea79",
   "metadata": {},
   "outputs": [
    {
     "name": "stderr",
     "output_type": "stream",
     "text": [
      "C:\\Users\\Rupali\\AppData\\Local\\Programs\\Python\\Python39\\lib\\site-packages\\sklearn\\base.py:488: FutureWarning: The feature names should match those that were passed during fit. Starting version 1.2, an error will be raised.\n",
      "Feature names unseen at fit time:\n",
      "- year_pred\n",
      "Feature names seen at fit time, yet now missing:\n",
      "- year\n",
      "\n",
      "  warnings.warn(message, FutureWarning)\n"
     ]
    },
    {
     "data": {
      "text/plain": [
       "array([38803.29886875, 39631.76394397, 40460.22901919, 41288.69409442])"
      ]
     },
     "execution_count": 65,
     "metadata": {},
     "output_type": "execute_result"
    }
   ],
   "source": [
    "model.predict(d)"
   ]
  },
  {
   "cell_type": "markdown",
   "id": "1f679ba9-7025-4ebf-a4c2-af06a81a485d",
   "metadata": {},
   "source": [
    "#### let we check actual and predicted values graph"
   ]
  },
  {
   "cell_type": "code",
   "execution_count": 71,
   "id": "b417c10d-b84f-416a-acc0-1435c9b575e8",
   "metadata": {},
   "outputs": [
    {
     "data": {
      "image/png": "[encoded data removed]",
      "text/plain": [
       "<Figure size 432x288 with 1 Axes>"
      ]
     },
     "metadata": {
      "needs_background": "light"
     },
     "output_type": "display_data"
    }
   ],
   "source": [
    "plt.xlabel('year')\n",
    "plt.ylabel('PCI')\n",
    "plt.scatter(df.year,df.PCI,c='g')\n",
    "plt.plot(df.year,model.predict(df[['year']]))\n",
    "plt.show()"
   ]
  },
  {
   "cell_type": "code",
   "execution_count": null,
   "id": "26e7af93-0d64-47c9-91a1-586ee05a472c",
   "metadata": {},
   "outputs": [],
   "source": []
  }
 ],
 "metadata": {
  "kernelspec": {
   "display_name": "Python 3 (ipykernel)",
   "language": "python",
   "name": "python3"
  },
  "language_info": {
   "codemirror_mode": {
    "name": "ipython",
    "version": 3
   },
   "file_extension": ".py",
   "mimetype": "text/x-python",
   "name": "python",
   "nbconvert_exporter": "python",
   "pygments_lexer": "ipython3",
   "version": "3.9.7"
  }
 },
 "nbformat": 4,
 "nbformat_minor": 5
}
