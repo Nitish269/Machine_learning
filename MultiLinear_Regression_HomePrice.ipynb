{
 "cells": [
  {
   "cell_type": "markdown",
   "id": "cf81639a-5fa0-4cff-ac3b-62df472473b3",
   "metadata": {},
   "source": [
    "# Multilinerar Regression to decide Home price on basis of more than 2 features"
   ]
  },
  {
   "cell_type": "code",
   "execution_count": 1,
   "id": "77a7306d-5baa-43f6-aca4-c237bebc0890",
   "metadata": {},
   "outputs": [],
   "source": [
    "import pandas as pd\n",
    "import matplotlib.pyplot as plt"
   ]
  },
  {
   "cell_type": "markdown",
   "id": "d2543d74-fa81-4628-be94-59185d62b90c",
   "metadata": {},
   "source": [
    "### we have a homeprice data set"
   ]
  },
  {
   "cell_type": "code",
   "execution_count": 2,
   "id": "40caeb69-8b6b-42a5-b1d5-80fb1fa60a87",
   "metadata": {},
   "outputs": [],
   "source": [
    "df = pd.read_csv('homeprices.csv')"
   ]
  },
  {
   "cell_type": "code",
   "execution_count": 3,
   "id": "2840090a-4efd-4eb9-9292-a6804216f0c1",
   "metadata": {},
   "outputs": [
    {
     "data": {
      "text/html": [
       "<div>\n",
       "<style scoped>\n",
       "    .dataframe tbody tr th:only-of-type {\n",
       "        vertical-align: middle;\n",
       "    }\n",
       "\n",
       "    .dataframe tbody tr th {\n",
       "        vertical-align: top;\n",
       "    }\n",
       "\n",
       "    .dataframe thead th {\n",
       "        text-align: right;\n",
       "    }\n",
       "</style>\n",
       "<table border=\"1\" class=\"dataframe\">\n",
       "  <thead>\n",
       "    <tr style=\"text-align: right;\">\n",
       "      <th></th>\n",
       "      <th>area</th>\n",
       "      <th>bedrooms</th>\n",
       "      <th>age</th>\n",
       "      <th>price</th>\n",
       "    </tr>\n",
       "  </thead>\n",
       "  <tbody>\n",
       "    <tr>\n",
       "      <th>0</th>\n",
       "      <td>2600</td>\n",
       "      <td>3.0</td>\n",
       "      <td>20</td>\n",
       "      <td>550000</td>\n",
       "    </tr>\n",
       "    <tr>\n",
       "      <th>1</th>\n",
       "      <td>3000</td>\n",
       "      <td>4.0</td>\n",
       "      <td>15</td>\n",
       "      <td>565000</td>\n",
       "    </tr>\n",
       "    <tr>\n",
       "      <th>2</th>\n",
       "      <td>3200</td>\n",
       "      <td>NaN</td>\n",
       "      <td>18</td>\n",
       "      <td>610000</td>\n",
       "    </tr>\n",
       "    <tr>\n",
       "      <th>3</th>\n",
       "      <td>3600</td>\n",
       "      <td>3.0</td>\n",
       "      <td>30</td>\n",
       "      <td>595000</td>\n",
       "    </tr>\n",
       "    <tr>\n",
       "      <th>4</th>\n",
       "      <td>4000</td>\n",
       "      <td>5.0</td>\n",
       "      <td>8</td>\n",
       "      <td>760000</td>\n",
       "    </tr>\n",
       "    <tr>\n",
       "      <th>5</th>\n",
       "      <td>4100</td>\n",
       "      <td>6.0</td>\n",
       "      <td>8</td>\n",
       "      <td>810000</td>\n",
       "    </tr>\n",
       "  </tbody>\n",
       "</table>\n",
       "</div>"
      ],
      "text/plain": [
       "   area  bedrooms  age   price\n",
       "0  2600       3.0   20  550000\n",
       "1  3000       4.0   15  565000\n",
       "2  3200       NaN   18  610000\n",
       "3  3600       3.0   30  595000\n",
       "4  4000       5.0    8  760000\n",
       "5  4100       6.0    8  810000"
      ]
     },
     "execution_count": 3,
     "metadata": {},
     "output_type": "execute_result"
    }
   ],
   "source": [
    "df"
   ]
  },
  {
   "cell_type": "markdown",
   "id": "722bca83-dcc1-4fa4-a84f-f201e4cd7050",
   "metadata": {},
   "source": [
    "### we have data set which contain below features"
   ]
  },
  {
   "cell_type": "code",
   "execution_count": 4,
   "id": "3c7f8d9d-a934-4657-b191-9dc32698651a",
   "metadata": {},
   "outputs": [
    {
     "data": {
      "text/plain": [
       "(Index(['area', 'bedrooms', 'age', 'price'], dtype='object'), (6, 4))"
      ]
     },
     "execution_count": 4,
     "metadata": {},
     "output_type": "execute_result"
    }
   ],
   "source": [
    "df.columns , df.shape"
   ]
  },
  {
   "cell_type": "code",
   "execution_count": 5,
   "id": "4b4780bc-8cb2-456c-992b-958154c12b25",
   "metadata": {},
   "outputs": [
    {
     "name": "stdout",
     "output_type": "stream",
     "text": [
      "<class 'pandas.core.frame.DataFrame'>\n",
      "RangeIndex: 6 entries, 0 to 5\n",
      "Data columns (total 4 columns):\n",
      " #   Column    Non-Null Count  Dtype  \n",
      "---  ------    --------------  -----  \n",
      " 0   area      6 non-null      int64  \n",
      " 1   bedrooms  5 non-null      float64\n",
      " 2   age       6 non-null      int64  \n",
      " 3   price     6 non-null      int64  \n",
      "dtypes: float64(1), int64(3)\n",
      "memory usage: 320.0 bytes\n"
     ]
    }
   ],
   "source": [
    "df.info()"
   ]
  },
  {
   "cell_type": "code",
   "execution_count": 6,
   "id": "38337aa1-66d7-4b68-a7bb-3e79b98c699a",
   "metadata": {},
   "outputs": [
    {
     "data": {
      "text/plain": [
       "area        0\n",
       "bedrooms    1\n",
       "age         0\n",
       "price       0\n",
       "dtype: int64"
      ]
     },
     "execution_count": 6,
     "metadata": {},
     "output_type": "execute_result"
    }
   ],
   "source": [
    "df.isna().sum()"
   ]
  },
  {
   "cell_type": "markdown",
   "id": "8400f09f-5495-4098-a7b9-794a18e05bce",
   "metadata": {},
   "source": [
    "#### from above we have 4 fatures and 6 rows of data, in this we have one NAN value in bedroom feature"
   ]
  },
  {
   "cell_type": "markdown",
   "id": "6121a14f-c617-44ad-a80f-a45fac8bce42",
   "metadata": {},
   "source": [
    "#### we can replace NAN value from bedroom as median number of bedroom"
   ]
  },
  {
   "cell_type": "code",
   "execution_count": 7,
   "id": "9ca6c6ff-9566-4f9a-b120-f2bd3a1355ee",
   "metadata": {},
   "outputs": [],
   "source": [
    "median_bedrooms = df.bedrooms.median()"
   ]
  },
  {
   "cell_type": "code",
   "execution_count": 8,
   "id": "216860fa-8701-4f76-9893-30cc49784839",
   "metadata": {},
   "outputs": [],
   "source": [
    "df.bedrooms = df.bedrooms.fillna(median_bedrooms)"
   ]
  },
  {
   "cell_type": "code",
   "execution_count": 23,
   "id": "655a8e4e-19c4-48f2-abe6-c7eb636b0ae1",
   "metadata": {},
   "outputs": [
    {
     "data": {
      "text/html": [
       "<div>\n",
       "<style scoped>\n",
       "    .dataframe tbody tr th:only-of-type {\n",
       "        vertical-align: middle;\n",
       "    }\n",
       "\n",
       "    .dataframe tbody tr th {\n",
       "        vertical-align: top;\n",
       "    }\n",
       "\n",
       "    .dataframe thead th {\n",
       "        text-align: right;\n",
       "    }\n",
       "</style>\n",
       "<table border=\"1\" class=\"dataframe\">\n",
       "  <thead>\n",
       "    <tr style=\"text-align: right;\">\n",
       "      <th></th>\n",
       "      <th>area</th>\n",
       "      <th>bedrooms</th>\n",
       "      <th>age</th>\n",
       "      <th>price</th>\n",
       "    </tr>\n",
       "  </thead>\n",
       "  <tbody>\n",
       "    <tr>\n",
       "      <th>0</th>\n",
       "      <td>2600</td>\n",
       "      <td>3.0</td>\n",
       "      <td>20</td>\n",
       "      <td>550000</td>\n",
       "    </tr>\n",
       "    <tr>\n",
       "      <th>1</th>\n",
       "      <td>3000</td>\n",
       "      <td>4.0</td>\n",
       "      <td>15</td>\n",
       "      <td>565000</td>\n",
       "    </tr>\n",
       "    <tr>\n",
       "      <th>2</th>\n",
       "      <td>3200</td>\n",
       "      <td>4.0</td>\n",
       "      <td>18</td>\n",
       "      <td>610000</td>\n",
       "    </tr>\n",
       "    <tr>\n",
       "      <th>3</th>\n",
       "      <td>3600</td>\n",
       "      <td>3.0</td>\n",
       "      <td>30</td>\n",
       "      <td>595000</td>\n",
       "    </tr>\n",
       "    <tr>\n",
       "      <th>4</th>\n",
       "      <td>4000</td>\n",
       "      <td>5.0</td>\n",
       "      <td>8</td>\n",
       "      <td>760000</td>\n",
       "    </tr>\n",
       "    <tr>\n",
       "      <th>5</th>\n",
       "      <td>4100</td>\n",
       "      <td>6.0</td>\n",
       "      <td>8</td>\n",
       "      <td>810000</td>\n",
       "    </tr>\n",
       "  </tbody>\n",
       "</table>\n",
       "</div>"
      ],
      "text/plain": [
       "   area  bedrooms  age   price\n",
       "0  2600       3.0   20  550000\n",
       "1  3000       4.0   15  565000\n",
       "2  3200       4.0   18  610000\n",
       "3  3600       3.0   30  595000\n",
       "4  4000       5.0    8  760000\n",
       "5  4100       6.0    8  810000"
      ]
     },
     "execution_count": 23,
     "metadata": {},
     "output_type": "execute_result"
    }
   ],
   "source": [
    "df"
   ]
  },
  {
   "cell_type": "code",
   "execution_count": 9,
   "id": "cb7b40d8-cd43-49c8-9282-9aa0cb3b914a",
   "metadata": {},
   "outputs": [
    {
     "data": {
      "text/plain": [
       "area        0\n",
       "bedrooms    0\n",
       "age         0\n",
       "price       0\n",
       "dtype: int64"
      ]
     },
     "execution_count": 9,
     "metadata": {},
     "output_type": "execute_result"
    }
   ],
   "source": [
    "df.isna().sum()"
   ]
  },
  {
   "cell_type": "markdown",
   "id": "d08bacb4-6320-4fd5-a094-11c3286bcc6a",
   "metadata": {},
   "source": [
    "#### now we dont have any NAN value "
   ]
  },
  {
   "cell_type": "markdown",
   "id": "26d27df6-0743-456a-93bd-5be54cf54fc8",
   "metadata": {},
   "source": [
    "#### we need to predict price of home on basis of area, bedrooms, age "
   ]
  },
  {
   "cell_type": "markdown",
   "id": "3386ae48-004a-4fc5-b202-03a8d239bac8",
   "metadata": {},
   "source": [
    "#### so here price is dependent vaiable and area,bedrooms,age are indepndent variables"
   ]
  },
  {
   "cell_type": "markdown",
   "id": "289e90be-c241-43f4-b813-e58d030bd7e1",
   "metadata": {},
   "source": [
    "#### let we check one by one independent vaiable relation with price by visualising"
   ]
  },
  {
   "cell_type": "code",
   "execution_count": 14,
   "id": "7df29bc0-e845-4c24-bef3-c8dbb7e44806",
   "metadata": {},
   "outputs": [
    {
     "data": {
      "text/plain": [
       "<matplotlib.collections.PathCollection at 0x22737a63130>"
      ]
     },
     "execution_count": 14,
     "metadata": {},
     "output_type": "execute_result"
    },
    {
     "data": {
      "image/png": "[encoded data removed]",
      "text/plain": [
       "<Figure size 432x288 with 1 Axes>"
      ]
     },
     "metadata": {
      "needs_background": "light"
     },
     "output_type": "display_data"
    }
   ],
   "source": [
    "plt.xlabel('area')\n",
    "plt.ylabel('price')\n",
    "plt.title('Area vs Price')\n",
    "plt.scatter(df.area,df.price)"
   ]
  },
  {
   "cell_type": "code",
   "execution_count": 15,
   "id": "efc90fe9-1c97-44af-ae4e-249217e527ec",
   "metadata": {},
   "outputs": [
    {
     "data": {
      "image/png": "[encoded data removed]",
      "text/plain": [
       "<Figure size 432x288 with 1 Axes>"
      ]
     },
     "metadata": {
      "needs_background": "light"
     },
     "output_type": "display_data"
    }
   ],
   "source": [
    "plt.boxplot(df.area)\n",
    "plt.show()"
   ]
  },
  {
   "cell_type": "markdown",
   "id": "6d0d383e-4734-4751-bc6a-b64394845b57",
   "metadata": {},
   "source": [
    "#### boxplot dont show any outliers and scattter plot show almost 4 out of 6 points inline"
   ]
  },
  {
   "cell_type": "markdown",
   "id": "c5a9e5df-8241-4ed6-bba9-3738c10203f9",
   "metadata": {},
   "source": [
    "### bedrooms vs price"
   ]
  },
  {
   "cell_type": "code",
   "execution_count": 20,
   "id": "c5d1b87f-c041-4e3b-82f9-bfa029f20b37",
   "metadata": {},
   "outputs": [
    {
     "data": {
      "text/plain": [
       "<matplotlib.collections.PathCollection at 0x227393f7b20>"
      ]
     },
     "execution_count": 20,
     "metadata": {},
     "output_type": "execute_result"
    },
    {
     "data": {
      "image/png": "[encoded data removed]",
      "text/plain": [
       "<Figure size 432x288 with 1 Axes>"
      ]
     },
     "metadata": {
      "needs_background": "light"
     },
     "output_type": "display_data"
    }
   ],
   "source": [
    "plt.xlabel('No of Bedrooms')\n",
    "plt.ylabel('price')\n",
    "plt.title('Bedrooms Vs price')\n",
    "plt.scatter(df.bedrooms,df.price)"
   ]
  },
  {
   "cell_type": "code",
   "execution_count": 19,
   "id": "d0ca731c-a34d-4167-83a3-1d94d994ecaf",
   "metadata": {},
   "outputs": [
    {
     "data": {
      "image/png": "[encoded data removed]",
      "text/plain": [
       "<Figure size 432x288 with 1 Axes>"
      ]
     },
     "metadata": {
      "needs_background": "light"
     },
     "output_type": "display_data"
    }
   ],
   "source": [
    "plt.boxplot(df.bedrooms)\n",
    "plt.show()"
   ]
  },
  {
   "cell_type": "markdown",
   "id": "54062eaa-9749-4a19-8178-a04169dca9ae",
   "metadata": {},
   "source": [
    "#### we have almost same result as area wrt price "
   ]
  },
  {
   "cell_type": "markdown",
   "id": "9126e8f9-4463-4bc8-9825-ab089b8d817f",
   "metadata": {},
   "source": [
    "### age of property vs price"
   ]
  },
  {
   "cell_type": "code",
   "execution_count": 21,
   "id": "604b2c0b-86d7-4473-8682-8c710413f93d",
   "metadata": {},
   "outputs": [
    {
     "data": {
      "text/plain": [
       "<matplotlib.collections.PathCollection at 0x2273a8a6d00>"
      ]
     },
     "execution_count": 21,
     "metadata": {},
     "output_type": "execute_result"
    },
    {
     "data": {
      "image/png": "[encoded data removed]",
      "text/plain": [
       "<Figure size 432x288 with 1 Axes>"
      ]
     },
     "metadata": {
      "needs_background": "light"
     },
     "output_type": "display_data"
    }
   ],
   "source": [
    "plt.scatter(df.age,df.price)"
   ]
  },
  {
   "cell_type": "code",
   "execution_count": 25,
   "id": "dbdf93e6-4bc1-46af-9359-e84c3aa2dea5",
   "metadata": {},
   "outputs": [
    {
     "data": {
      "image/png": "[encoded data removed]",
      "text/plain": [
       "<Figure size 432x288 with 1 Axes>"
      ]
     },
     "metadata": {
      "needs_background": "light"
     },
     "output_type": "display_data"
    }
   ],
   "source": [
    "plt.boxplot(df.age)\n",
    "plt.show()"
   ]
  },
  {
   "cell_type": "markdown",
   "id": "c7e58cc1-32ff-4387-ab6b-3398abb2f58a",
   "metadata": {},
   "source": [
    "#### here we cant say exactly from our data age and price has linear relationship, but as we know as age increase price decrease so we can assume age and price has linear graph"
   ]
  },
  {
   "cell_type": "markdown",
   "id": "cc49b892-4984-4954-8725-cbe45e27262a",
   "metadata": {},
   "source": [
    "#### so from visualisation we can go with linear regression model "
   ]
  },
  {
   "cell_type": "code",
   "execution_count": 28,
   "id": "c082968d-bcba-4c3d-b76b-fe72a6c89b38",
   "metadata": {},
   "outputs": [],
   "source": [
    "from sklearn.linear_model import LinearRegression"
   ]
  },
  {
   "cell_type": "code",
   "execution_count": 38,
   "id": "45c6cc9b-fc5d-488e-96de-bcf1373d3681",
   "metadata": {},
   "outputs": [],
   "source": [
    "X = df[['area','bedrooms','age']]"
   ]
  },
  {
   "cell_type": "code",
   "execution_count": 39,
   "id": "24efa027-c0aa-4bc0-9a13-c14600a7a44f",
   "metadata": {},
   "outputs": [],
   "source": [
    "y = df.price"
   ]
  },
  {
   "cell_type": "code",
   "execution_count": 40,
   "id": "70e615c4-d7b2-4618-a0cb-8dbd017f2d9b",
   "metadata": {},
   "outputs": [],
   "source": [
    "model = LinearRegression()"
   ]
  },
  {
   "cell_type": "code",
   "execution_count": 41,
   "id": "532a0294-4ff7-4e05-8c85-cd559f856eeb",
   "metadata": {},
   "outputs": [
    {
     "data": {
      "text/plain": [
       "LinearRegression()"
      ]
     },
     "execution_count": 41,
     "metadata": {},
     "output_type": "execute_result"
    }
   ],
   "source": [
    "model.fit(X,y)"
   ]
  },
  {
   "cell_type": "code",
   "execution_count": 42,
   "id": "22386c2e-38c8-40d7-8e69-31819b81e00e",
   "metadata": {},
   "outputs": [
    {
     "data": {
      "text/plain": [
       "array([  112.06244194, 23388.88007794, -3231.71790863])"
      ]
     },
     "execution_count": 42,
     "metadata": {},
     "output_type": "execute_result"
    }
   ],
   "source": [
    "model.coef_"
   ]
  },
  {
   "cell_type": "code",
   "execution_count": 43,
   "id": "2dfe4708-ccad-4bba-8d98-d9088eb4d50d",
   "metadata": {},
   "outputs": [
    {
     "data": {
      "text/plain": [
       "221323.00186540443"
      ]
     },
     "execution_count": 43,
     "metadata": {},
     "output_type": "execute_result"
    }
   ],
   "source": [
    "model.intercept_"
   ]
  },
  {
   "cell_type": "code",
   "execution_count": 45,
   "id": "6e20184f-61c7-4a1d-a02f-731014a42f66",
   "metadata": {},
   "outputs": [
    {
     "data": {
      "text/plain": [
       "95.50196399325817"
      ]
     },
     "execution_count": 45,
     "metadata": {},
     "output_type": "execute_result"
    }
   ],
   "source": [
    "model.score(X,y)*100"
   ]
  },
  {
   "cell_type": "markdown",
   "id": "3cadd041-4282-4502-b306-cc275bdad4dd",
   "metadata": {},
   "source": [
    "### our model has 95% accuracy"
   ]
  },
  {
   "cell_type": "markdown",
   "id": "bfe8369b-c933-4cc2-b823-a0bbcf920f06",
   "metadata": {},
   "source": [
    "### predict price for value area=3000 bedrooms=3 age=40"
   ]
  },
  {
   "cell_type": "code",
   "execution_count": 46,
   "id": "f7568ef7-ed8a-4d2b-aebd-bc339e1f4afb",
   "metadata": {},
   "outputs": [
    {
     "name": "stderr",
     "output_type": "stream",
     "text": [
      "C:\\Users\\Rupali\\AppData\\Local\\Programs\\Python\\Python39\\lib\\site-packages\\sklearn\\base.py:445: UserWarning: X does not have valid feature names, but LinearRegression was fitted with feature names\n",
      "  warnings.warn(\n"
     ]
    },
    {
     "data": {
      "text/plain": [
       "array([498408.25158031])"
      ]
     },
     "execution_count": 46,
     "metadata": {},
     "output_type": "execute_result"
    }
   ],
   "source": [
    "model.predict([[3000,3,40]])"
   ]
  },
  {
   "cell_type": "markdown",
   "id": "280b5492-a447-445e-8c12-ec67ce86c5b0",
   "metadata": {},
   "source": [
    "#### for area 2000, 3 bedrooms, 5yr age price is?"
   ]
  },
  {
   "cell_type": "code",
   "execution_count": 48,
   "id": "b7d6d808-3340-4d2f-8751-3465ff971d2b",
   "metadata": {},
   "outputs": [
    {
     "name": "stderr",
     "output_type": "stream",
     "text": [
      "C:\\Users\\Rupali\\AppData\\Local\\Programs\\Python\\Python39\\lib\\site-packages\\sklearn\\base.py:445: UserWarning: X does not have valid feature names, but LinearRegression was fitted with feature names\n",
      "  warnings.warn(\n"
     ]
    },
    {
     "data": {
      "text/plain": [
       "array([611518.37838246])"
      ]
     },
     "execution_count": 48,
     "metadata": {},
     "output_type": "execute_result"
    }
   ],
   "source": [
    "model.predict([[3000,3,5]])"
   ]
  },
  {
   "cell_type": "markdown",
   "id": "eba2c130-217d-4a8b-8284-1bec2f1d0a59",
   "metadata": {},
   "source": [
    "#### in both predction as proprty has less age (new propert) price is high"
   ]
  },
  {
   "cell_type": "code",
   "execution_count": null,
   "id": "ac81127d-c4a3-4dab-94ab-d2d39facea0c",
   "metadata": {},
   "outputs": [],
   "source": []
  }
 ],
 "metadata": {
  "kernelspec": {
   "display_name": "Python 3 (ipykernel)",
   "language": "python",
   "name": "python3"
  },
  "language_info": {
   "codemirror_mode": {
    "name": "ipython",
    "version": 3
   },
   "file_extension": ".py",
   "mimetype": "text/x-python",
   "name": "python",
   "nbconvert_exporter": "python",
   "pygments_lexer": "ipython3",
   "version": "3.9.7"
  }
 },
 "nbformat": 4,
 "nbformat_minor": 5
}
